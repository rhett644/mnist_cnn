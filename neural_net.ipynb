{
 "cells": [
  {
   "cell_type": "code",
   "execution_count": null,
   "id": "949d0c28-ab2f-42b0-878a-3f627ba35c59",
   "metadata": {},
   "outputs": [],
   "source": [
    "import numpy as np\n",
    "from tensorflow import keras\n",
    "from keras.datasets import mnist\n",
    "from matplotlib import pyplot as plt\n",
    "from matplotlib import style"
   ]
  },
  {
   "cell_type": "code",
   "execution_count": null,
   "id": "18c71d63-ada0-43f6-9a4c-41fa5666f282",
   "metadata": {},
   "outputs": [],
   "source": [
    "(train_X, train_y), (test_X, test_y) = mnist.load_data()"
   ]
  },
  {
   "cell_type": "code",
   "execution_count": null,
   "id": "37b2d9d6-65e1-453d-9833-cf5f81721061",
   "metadata": {},
   "outputs": [],
   "source": [
    "print('X_train: ' + str(train_X.shape))\n",
    "print('Y_train: ' + str(train_y.shape))\n",
    "print('X_test:  '  + str(test_X.shape))\n",
    "print('Y_test:  '  + str(test_y.shape))"
   ]
  },
  {
   "cell_type": "code",
   "execution_count": null,
   "id": "4198d233-6fb4-42ac-8abd-06c600d69890",
   "metadata": {},
   "outputs": [],
   "source": [
    "# print(style.available)\n",
    "with style.context('dark_background'):\n",
    "    plt.rcParams['figure.figsize'] = [10, 10]\n",
    "    plt.rcParams['figure.dpi'] = 100\n",
    "    fig, axs = plt.subplots(3,3)\n",
    "    for i, ax in enumerate(axs.flat):\n",
    "        ind = int(np.around(np.random.random()*len(train_X)))\n",
    "        img = train_X[ind]\n",
    "        ax.imshow(img,cmap='binary')\n",
    "        ax.set_xticks(np.linspace(0,len(img[:,0]),5))\n",
    "        ax.set_yticks(np.linspace(0,len(img[0,:]),5))\n",
    "        ax.set_title('Train[' + str(ind) + '] == ' + str(train_y[ind]),size='medium')\n",
    "    plt.suptitle('9 Random Images from MNIST Dataset',size='large')\n",
    "    plt.tight_layout()\n",
    "    plt.show()"
   ]
  },
  {
   "cell_type": "code",
   "execution_count": null,
   "id": "85adb993-b33a-4038-bee9-c4a072af8074",
   "metadata": {},
   "outputs": [],
   "source": []
  }
 ],
 "metadata": {
  "kernelspec": {
   "display_name": "Python 3 (ipykernel)",
   "language": "python",
   "name": "python3"
  },
  "language_info": {
   "codemirror_mode": {
    "name": "ipython",
    "version": 3
   },
   "file_extension": ".py",
   "mimetype": "text/x-python",
   "name": "python",
   "nbconvert_exporter": "python",
   "pygments_lexer": "ipython3",
   "version": "3.10.12"
  }
 },
 "nbformat": 4,
 "nbformat_minor": 5
}
